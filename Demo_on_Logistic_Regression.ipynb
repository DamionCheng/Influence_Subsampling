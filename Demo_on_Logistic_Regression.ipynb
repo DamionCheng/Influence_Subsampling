{
 "cells": [
  {
   "cell_type": "code",
   "execution_count": 1,
   "metadata": {},
   "outputs": [],
   "source": [
    "# -*- coding: utf-8 -*-\n",
    "import numpy as np\n",
    "from scipy import sparse\n",
    "from sklearn.linear_model import LogisticRegression\n",
    "from sklearn.metrics import log_loss, roc_auc_score\n",
    "\n",
    "from grad_utils import grad_logloss_theta_lr\n",
    "from grad_utils import batch_grad_logloss_lr\n",
    "from inverse_hvp import inverse_hvp_lr_newtonCG\n",
    "from dataset import load_data_v1,select_from_one_class\n",
    "\n",
    "import argparse\n",
    "import time\n",
    "import pdb\n",
    "import os\n",
    "np.random.seed(0)"
   ]
  },
  {
   "cell_type": "code",
   "execution_count": 2,
   "metadata": {},
   "outputs": [],
   "source": [
    "# select the dataset used\n",
    "dataset_name = \"mnist\"\n",
    "# dataset_name = \"cancer\"\n",
    "\n",
    "# parameter for the sigmoid sampling function\n",
    "sigmoid_k = 10\n",
    "# regularization parameter for Logistic Regression\n",
    "C = 0.1\n",
    "# sample ratio\n",
    "sample_ratio = 0.6\n",
    "# flip ratio\n",
    "flip_ratio = 0.4"
   ]
  },
  {
   "cell_type": "code",
   "execution_count": 3,
   "metadata": {},
   "outputs": [
    {
     "name": "stdout",
     "output_type": "stream",
     "text": [
      "Extracting ./data\\train-images-idx3-ubyte.gz\n",
      "Extracting ./data\\train-labels-idx1-ubyte.gz\n",
      "Extracting ./data\\t10k-images-idx3-ubyte.gz\n",
      "Extracting ./data\\t10k-labels-idx1-ubyte.gz\n",
      "x_train, nr sample 8325, nr feature 784\n",
      "x_va,    nr sample 3569, nr feature 784\n",
      "x_te,    nr sample 2163, nr feature 784\n",
      "Tr: Pos 4395 Neg 3930\n",
      "Va: Pos 1784 Neg 1785\n",
      "Te: Pos 1135 Neg 1028\n",
      "Load data, cost 0.5 sec\n"
     ]
    }
   ],
   "source": [
    "start_time = time.time()\n",
    "# load data, pick 30% as the Va set\n",
    "x_train,y_train,x_va,y_va,x_te,y_te = load_data_v1(dataset_name,va_ratio=0.3)\n",
    "print(\"x_train, nr sample {}, nr feature {}\".format(x_train.shape[0],x_train.shape[1]))\n",
    "print(\"x_va,    nr sample {}, nr feature {}\".format(x_va.shape[0],x_va.shape[1]))\n",
    "print(\"x_te,    nr sample {}, nr feature {}\".format(x_te.shape[0],x_te.shape[1]))\n",
    "print(\"Tr: Pos {} Neg {}\".format(y_train[y_train==1].shape[0],y_train[y_train==0].shape[0]))\n",
    "print(\"Va: Pos {} Neg {}\".format(y_va[y_va==1].shape[0],y_va[y_va==0].shape[0]))\n",
    "print(\"Te: Pos {} Neg {}\".format(y_te[y_te==1].shape[0],y_te[y_te==0].shape[0]))\n",
    "print(\"Load data, cost {:.1f} sec\".format(time.time()-start_time))"
   ]
  },
  {
   "cell_type": "code",
   "execution_count": 4,
   "metadata": {},
   "outputs": [
    {
     "name": "stdout",
     "output_type": "stream",
     "text": [
      "[FullSet] Va logloss 0.525831\n",
      "[FullSet] Te logloss 0.522210\n"
     ]
    }
   ],
   "source": [
    "# get the subset samples number\n",
    "num_tr_sample = x_train.shape[0]\n",
    "obj_sample_size = int(sample_ratio * num_tr_sample)\n",
    "\n",
    "\n",
    "# flip labels\n",
    "idxs = np.arange(y_train.shape[0])\n",
    "np.random.shuffle(idxs)\n",
    "num_flip = int(flip_ratio * len(idxs))\n",
    "y_train[idxs[:num_flip]] = np.logical_xor(np.ones(num_flip), y_train[idxs[:num_flip]]).astype(int)\n",
    "\n",
    "\n",
    "# define the full-set-model \\hat{\\theta}\n",
    "clf = LogisticRegression(\n",
    "        C = C,\n",
    "        fit_intercept=False,\n",
    "        tol = 1e-8,\n",
    "        solver=\"liblinear\",\n",
    "        multi_class=\"ovr\",\n",
    "        max_iter=100,\n",
    "        warm_start=False,\n",
    "        verbose=0,\n",
    "        )\n",
    "clf.fit(x_train,y_train)\n",
    "# on Va\n",
    "y_va_pred = clf.predict_proba(x_va)[:,1]\n",
    "full_logloss = log_loss(y_va,y_va_pred)\n",
    "weight_ar = clf.coef_.flatten()\n",
    "# on Te\n",
    "y_te_pred = clf.predict_proba(x_te)[:,1]\n",
    "full_te_logloss = log_loss(y_te,y_te_pred)\n",
    "full_te_auc = roc_auc_score(y_te, y_te_pred)\n",
    "y_te_pred = clf.predict(x_te)\n",
    "full_te_acc = (y_te == y_te_pred).sum() / y_te.shape[0]\n",
    "\n",
    "\n",
    "# print full-set-model results\n",
    "print(\"[FullSet] Va logloss {:.6f}\".format(full_logloss))\n",
    "print(\"[FullSet] Te logloss {:.6f}\".format(full_te_logloss))"
   ]
  },
  {
   "cell_type": "code",
   "execution_count": 5,
   "metadata": {},
   "outputs": [
    {
     "name": "stderr",
     "output_type": "stream",
     "text": [
      "D:\\Influence_Function\\Influence_Subsampling\\inverse_hvp.py:151: OptimizeWarning: Unknown solver options: preconditioner\n",
      "  preconditioner=M)\n"
     ]
    },
    {
     "name": "stdout",
     "output_type": "stream",
     "text": [
      "Succeed in getting the inverse of preconditioner M.\n",
      "iter 0 cg iter 0 iter_diff 0.5172054669837375\n",
      "Function value: -0.005201315957858108\n",
      "Split function value: 0.005250043348739033, -0.01045135930659714\n",
      "iter 1 cg iter 0 iter_diff 0.11950880063567072\n",
      "Function value: -0.00597127567333109\n",
      "Split function value: 0.006005378943333757, -0.011976654616664847\n",
      "iter 2 cg iter 0 iter_diff 0.03460332099002125\n",
      "iter 2 cg iter 10 iter_diff 0.014536661946960294\n",
      "Function value: -0.006830691441889669\n",
      "Split function value: 0.006681810386225926, -0.013512501828115595\n",
      "iter 3 cg iter 0 iter_diff 0.006582260246006118\n",
      "iter 3 cg iter 10 iter_diff 0.004572948377507423\n",
      "iter 3 cg iter 20 iter_diff 0.0007234651759872288\n",
      "Function value: -0.006879962238805358\n",
      "Split function value: 0.006889252029144162, -0.01376921426794952\n",
      "iter 4 cg iter 0 iter_diff 0.000459739665823105\n",
      "iter 4 cg iter 10 iter_diff 0.00022254761653082902\n",
      "iter 4 cg iter 20 iter_diff 7.878079929440464e-05\n",
      "iter 4 cg iter 30 iter_diff 2.057271900428783e-05\n",
      "Function value: -0.006880288072752461\n",
      "Split function value: 0.006880170968453372, -0.013760459041205833\n",
      "iter 5 cg iter 0 iter_diff 8.04094665882862e-06\n",
      "Function value: -0.006880288103957489\n",
      "Split function value: 0.0068802593156042, -0.013760547419561689\n",
      "Optimization terminated successfully.\n",
      "         Current function value: -0.006880\n",
      "         Iterations: 6\n",
      "         Function evaluations: 7\n",
      "         Gradient evaluations: 12\n",
      "         Hessian evaluations: 84\n",
      "implicit hessian-vector products mean: 0.008240879751886837\n",
      "implicit hessian-vector products norm: 2.4435501588020787\n",
      "Inverse HVP took 5.2 sec\n",
      "The Influence function's computation completed, cost 5.5 sec\n"
     ]
    }
   ],
   "source": [
    "# get time cost for computing the IF\n",
    "if_start_time = time.time()\n",
    "# building precoditioner\n",
    "test_grad_loss_val = grad_logloss_theta_lr(y_va,y_va_pred,x_va,weight_ar,C,False,0.1/(num_tr_sample*C))\n",
    "tr_pred = clf.predict_proba(x_train)[:,1]\n",
    "batch_size = 10000\n",
    "M = None\n",
    "total_batch = int(np.ceil(num_tr_sample / float(batch_size)))\n",
    "for idx in range(total_batch):\n",
    "    batch_tr_grad = batch_grad_logloss_lr(y_train[idx*batch_size:(idx+1)*batch_size],\n",
    "        tr_pred[idx*batch_size:(idx+1)*batch_size],\n",
    "        x_train[idx*batch_size:(idx+1)*batch_size],\n",
    "        weight_ar,\n",
    "        C,\n",
    "        False,\n",
    "        1.0)\n",
    "\n",
    "    sum_grad = batch_tr_grad.multiply(x_train[idx*batch_size:(idx+1)*batch_size]).sum(0)\n",
    "    if M is None:\n",
    "        M = sum_grad\n",
    "    else:\n",
    "        M = M + sum_grad\n",
    "\n",
    "M = M + 0.1/(num_tr_sample*C) * np.ones(x_train.shape[1])\n",
    "M = np.array(M).flatten()\n",
    "# computing the inverse Hessian-vector-product\n",
    "iv_hvp = inverse_hvp_lr_newtonCG(x_train,y_train,tr_pred,test_grad_loss_val,C,True,1e-5,True,M,0.1/(num_tr_sample*C))\n",
    "# get influence score\n",
    "total_batch = int(np.ceil(x_train.shape[0] / float(batch_size)))\n",
    "predicted_loss_diff = []\n",
    "for idx in range(total_batch):\n",
    "    train_grad_loss_val = batch_grad_logloss_lr(y_train[idx*batch_size:(idx+1)*batch_size],\n",
    "        tr_pred[idx*batch_size:(idx+1)*batch_size],\n",
    "        x_train[idx*batch_size:(idx+1)*batch_size],\n",
    "        weight_ar,\n",
    "        C,\n",
    "        False,\n",
    "        1.0)\n",
    "\n",
    "    predicted_loss_diff.extend(np.array(train_grad_loss_val.dot(iv_hvp)).flatten())\n",
    "    \n",
    "predicted_loss_diffs = np.asarray(predicted_loss_diff)\n",
    "duration = time.time() - if_start_time\n",
    "print(\"The Influence function's computation completed, cost {:.1f} sec\".format(duration))"
   ]
  },
  {
   "cell_type": "code",
   "execution_count": 6,
   "metadata": {},
   "outputs": [
    {
     "name": "stdout",
     "output_type": "stream",
     "text": [
      "============================================================\n",
      "IF Stats: mean -0.0001584688, max 0.0899369273, min -0.1181228889\n",
      "Pi Stats: [0.08009049 0.16273042 0.6629692  0.79178133 0.85940109]\n",
      "============================================================\n",
      "Result Summary on Va\n",
      "[SigUIDS]  logloss 0.162497, # 4994\n",
      "[Random]   logloss 0.527064, # 4995\n",
      "[Full]     logloss 0.525831, # 8325\n",
      "Result Summary on Te\n",
      "[SigUIDS]  logloss 0.176543, # 4994\n",
      "[Random]   logloss 0.524031, # 4995\n",
      "[Full]     logloss 0.522210, # 8325\n",
      "============================================================\n"
     ]
    }
   ],
   "source": [
    "print(\"==\"*30)\n",
    "print(\"IF Stats: mean {:.10f}, max {:.10f}, min {:.10f}\".format(\n",
    "    predicted_loss_diffs.mean(), predicted_loss_diffs.max(), predicted_loss_diffs.min())\n",
    ")\n",
    "# build sampling probability\n",
    "phi_ar = - predicted_loss_diffs\n",
    "IF_interval = phi_ar.max() - phi_ar.min()\n",
    "a_param = sigmoid_k / IF_interval\n",
    "prob_pi = 1 / (1 + np.exp(a_param * phi_ar))\n",
    "print(\"Pi Stats:\",np.percentile(prob_pi,[10,25,50,75,90]))\n",
    "\n",
    "# Do subsampling\n",
    "pos_idx = select_from_one_class(y_train,prob_pi,1,sample_ratio)\n",
    "neg_idx = select_from_one_class(y_train,prob_pi,0,sample_ratio)\n",
    "sb_idx = np.union1d(pos_idx,neg_idx)\n",
    "sb_x_train = x_train[sb_idx]\n",
    "sb_y_train = y_train[sb_idx]\n",
    "\n",
    "# Train the subset-model \\tilde{\\theta}\n",
    "clf.fit(sb_x_train,sb_y_train)\n",
    "y_va_pred = clf.predict_proba(x_va)[:,1]\n",
    "sb_logloss = log_loss(y_va, y_va_pred)\n",
    "sb_weight = clf.coef_.flatten()\n",
    "diff_w_norm = np.linalg.norm(weight_ar - sb_weight)\n",
    "sb_size = sb_x_train.shape[0]\n",
    "y_te_pred = clf.predict_proba(x_te)[:,1]\n",
    "sb_te_logloss = log_loss(y_te,y_te_pred)\n",
    "sb_te_auc = roc_auc_score(y_te, y_te_pred)\n",
    "y_te_pred = clf.predict(x_te)\n",
    "sb_te_acc = (y_te == y_te_pred).sum() / y_te.shape[0]\n",
    "\n",
    "\n",
    "\n",
    "# baseline: random sampling\n",
    "u_idxs = np.arange(x_train.shape[0])\n",
    "uniform_idxs = np.random.choice(u_idxs,obj_sample_size,replace=False)\n",
    "us_x_train = x_train[uniform_idxs]\n",
    "us_y_train = y_train[uniform_idxs]\n",
    "clf.fit(us_x_train, us_y_train)\n",
    "y_va_pred = clf.predict_proba(x_va)[:,1]\n",
    "us_logloss = log_loss(y_va, y_va_pred)\n",
    "us_size = us_x_train.shape[0]\n",
    "y_te_pred = clf.predict_proba(x_te)[:,1]\n",
    "us_te_logloss = log_loss(y_te,y_te_pred)\n",
    "us_te_auc = roc_auc_score(y_te, y_te_pred)\n",
    "y_te_pred = clf.predict(x_te)\n",
    "us_te_acc = (y_te == y_te_pred).sum() / y_te.shape[0]\n",
    "\n",
    "\n",
    "\n",
    "print(\"==\"*30)\n",
    "print(\"Result Summary on Va\")\n",
    "print(\"[SigUIDS]  logloss {:.6f}, # {}\".format(sb_logloss,sb_size))\n",
    "print(\"[Random]   logloss {:.6f}, # {}\".format(us_logloss,us_size))\n",
    "print(\"[Full]     logloss {:.6f}, # {}\".format(full_logloss,num_tr_sample))\n",
    "print(\"Result Summary on Te\")\n",
    "print(\"[SigUIDS]  logloss {:.6f}, # {}\".format(sb_te_logloss,sb_size))\n",
    "print(\"[Random]   logloss {:.6f}, # {}\".format(us_te_logloss,us_size))\n",
    "print(\"[Full]     logloss {:.6f}, # {}\".format(full_te_logloss,num_tr_sample))\n",
    "print(\"==\"*30)\n",
    "# Attention: if the dataset used here is small, one experiment may fail because of uncertainty of subsampling!\n",
    "# besides, a proper $k$ for sigmoid sampling function is also important."
   ]
  },
  {
   "cell_type": "code",
   "execution_count": 7,
   "metadata": {},
   "outputs": [
    {
     "name": "stdout",
     "output_type": "stream",
     "text": [
      "============================================================\n",
      "Result Summary on Te (ACC and AUC)\n",
      "[SigUIDS]  acc 0.984281, auc 0.998802 # 4994\n",
      "[Random]   acc 0.900139, auc 0.950359 # 4995\n",
      "[Full]     acc 0.916782, auc 0.961824 # 8325\n",
      "============================================================\n"
     ]
    }
   ],
   "source": [
    "print(\"==\"*30)\n",
    "print(\"Result Summary on Te (ACC and AUC)\")\n",
    "print(\"[SigUIDS]  acc {:.6f}, auc {:.6f} # {}\".format(sb_te_acc,sb_te_auc, sb_size))\n",
    "print(\"[Random]   acc {:.6f}, auc {:.6f} # {}\".format(us_te_acc,us_te_auc, us_size))\n",
    "print(\"[Full]     acc {:.6f}, auc {:.6f} # {}\".format(full_te_acc,full_te_auc, num_tr_sample))\n",
    "print(\"==\"*30)"
   ]
  },
  {
   "cell_type": "code",
   "execution_count": null,
   "metadata": {},
   "outputs": [],
   "source": []
  },
  {
   "cell_type": "code",
   "execution_count": null,
   "metadata": {},
   "outputs": [],
   "source": []
  }
 ],
 "metadata": {
  "kernelspec": {
   "display_name": "Python 3",
   "language": "python",
   "name": "python3"
  },
  "language_info": {
   "codemirror_mode": {
    "name": "ipython",
    "version": 3
   },
   "file_extension": ".py",
   "mimetype": "text/x-python",
   "name": "python",
   "nbconvert_exporter": "python",
   "pygments_lexer": "ipython3",
   "version": "3.5.4"
  }
 },
 "nbformat": 4,
 "nbformat_minor": 2
}
