{
 "cells": [
  {
   "cell_type": "code",
   "execution_count": 1,
   "metadata": {},
   "outputs": [],
   "source": [
    "# -*- coding: utf-8 -*-\n",
    "import numpy as np\n",
    "from scipy import sparse\n",
    "from sklearn.linear_model import LogisticRegression\n",
    "from sklearn.metrics import log_loss\n",
    "\n",
    "from grad_utils import grad_logloss_theta_lr\n",
    "from grad_utils import batch_grad_logloss_lr\n",
    "from inverse_hvp import inverse_hvp_lr_newtonCG\n",
    "from dataset import load_data_v1,select_from_one_class\n",
    "\n",
    "import argparse\n",
    "import time\n",
    "import pdb\n",
    "import os"
   ]
  },
  {
   "cell_type": "code",
   "execution_count": 2,
   "metadata": {},
   "outputs": [],
   "source": [
    "# select the dataset used\n",
    "dataset_name = \"cancer\"\n",
    "# parameter for the sigmoid sampling function\n",
    "sigmoid_k = 10\n",
    "# regularization parameter for Logistic Regression\n",
    "C = 0.1\n",
    "# sample ratio\n",
    "sample_ratio = 0.95"
   ]
  },
  {
   "cell_type": "code",
   "execution_count": 3,
   "metadata": {},
   "outputs": [
    {
     "name": "stdout",
     "output_type": "stream",
     "text": [
      "x_train, nr sample 350, nr feature 11\n",
      "x_va,    nr sample 150, nr feature 11\n",
      "x_te,    nr sample 183, nr feature 11\n",
      "Tr: Pos 164 Neg 186\n",
      "Va: Pos 33 Neg 117\n",
      "Te: Pos 42 Neg 141\n",
      "Load data, cost 0.0 sec\n"
     ]
    }
   ],
   "source": [
    "start_time = time.time()\n",
    "# load data, pick 30% as the Va set\n",
    "x_train,y_train,x_va,y_va,x_te,y_te = load_data_v1(dataset_name,va_ratio=0.3)\n",
    "print(\"x_train, nr sample {}, nr feature {}\".format(x_train.shape[0],x_train.shape[1]))\n",
    "print(\"x_va,    nr sample {}, nr feature {}\".format(x_va.shape[0],x_va.shape[1]))\n",
    "print(\"x_te,    nr sample {}, nr feature {}\".format(x_te.shape[0],x_te.shape[1]))\n",
    "print(\"Tr: Pos {} Neg {}\".format(y_train[y_train==1].shape[0],y_train[y_train==0].shape[0]))\n",
    "print(\"Va: Pos {} Neg {}\".format(y_va[y_va==1].shape[0],y_va[y_va==0].shape[0]))\n",
    "print(\"Te: Pos {} Neg {}\".format(y_te[y_te==1].shape[0],y_te[y_te==0].shape[0]))\n",
    "print(\"Load data, cost {:.1f} sec\".format(time.time()-start_time))"
   ]
  },
  {
   "cell_type": "code",
   "execution_count": 4,
   "metadata": {},
   "outputs": [
    {
     "name": "stdout",
     "output_type": "stream",
     "text": [
      "[FullSet] Va logloss 0.105347\n",
      "[FullSet] Te logloss 0.091384\n"
     ]
    }
   ],
   "source": [
    "# get the subset samples number\n",
    "num_tr_sample = x_train.shape[0]\n",
    "obj_sample_size = int(sample_ratio * num_tr_sample)\n",
    "\n",
    "# define the full-set-model \\hat{\\theta}\n",
    "clf = LogisticRegression(\n",
    "        C = C,\n",
    "        fit_intercept=False,\n",
    "        tol = 1e-8,\n",
    "        solver=\"liblinear\",\n",
    "        multi_class=\"ovr\",\n",
    "        max_iter=100,\n",
    "        warm_start=False,\n",
    "        verbose=0,\n",
    "        )\n",
    "clf.fit(x_train,y_train)\n",
    "# on Va\n",
    "y_va_pred = clf.predict_proba(x_va)[:,1]\n",
    "full_logloss = log_loss(y_va,y_va_pred)\n",
    "weight_ar = clf.coef_.flatten()\n",
    "# on Te\n",
    "y_te_pred = clf.predict_proba(x_te)\n",
    "full_te_logloss = log_loss(y_te,y_te_pred)\n",
    "\n",
    "# print full-set-model results\n",
    "print(\"[FullSet] Va logloss {:.6f}\".format(full_logloss))\n",
    "print(\"[FullSet] Te logloss {:.6f}\".format(full_te_logloss))\n"
   ]
  },
  {
   "cell_type": "code",
   "execution_count": 5,
   "metadata": {},
   "outputs": [
    {
     "name": "stdout",
     "output_type": "stream",
     "text": [
      "Succeed in getting the inverse of preconditioner M.\n",
      "iter 0 cg iter 0 iter_diff 0.017279105578539244\n",
      "Function value: -0.0006547602177645558\n",
      "Split function value: 0.0006547580515490153, -0.0013095182693135712\n",
      "iter 1 cg iter 0 iter_diff 0.0009571376369245043\n",
      "Function value: -0.0006715980575009302\n",
      "Split function value: 0.0006715611449095135, -0.0013431592024104437\n",
      "iter 2 cg iter 0 iter_diff 4.758424530440638e-06\n",
      "Function value: -0.0006715983390175697\n",
      "Split function value: 0.0006716115759386227, -0.0013432099149561923\n",
      "iter 3 cg iter 0 iter_diff 7.491056926911197e-07\n",
      "Function value: -0.0006715983390175697\n",
      "Split function value: 0.0006716115759386227, -0.0013432099149561923\n",
      "Optimization terminated successfully.\n",
      "         Current function value: -0.000672\n",
      "         Iterations: 4\n",
      "         Function evaluations: 5\n",
      "         Gradient evaluations: 8\n",
      "         Hessian evaluations: 9\n",
      "implicit hessian-vector products mean: -0.06288588997311396\n",
      "implicit hessian-vector products norm: 0.30488225907448274\n",
      "Inverse HVP took 0.0 sec\n",
      "The Influence function's computation completed, cost 0.0 sec\n"
     ]
    },
    {
     "name": "stderr",
     "output_type": "stream",
     "text": [
      "D:\\subsampling\\code_release\\inverse_hvp.py:151: OptimizeWarning: Unknown solver options: preconditioner\n",
      "  preconditioner=M)\n"
     ]
    }
   ],
   "source": [
    "# get time cost for computing the IF\n",
    "if_start_time = time.time()\n",
    "# building precoditioner\n",
    "test_grad_loss_val = grad_logloss_theta_lr(y_va,y_va_pred,x_va,weight_ar,C,False,0.1/(num_tr_sample*C))\n",
    "tr_pred = clf.predict_proba(x_train)[:,1]\n",
    "batch_size = 10000\n",
    "M = None\n",
    "total_batch = int(np.ceil(num_tr_sample / float(batch_size)))\n",
    "for idx in range(total_batch):\n",
    "    batch_tr_grad = batch_grad_logloss_lr(y_train[idx*batch_size:(idx+1)*batch_size],\n",
    "        tr_pred[idx*batch_size:(idx+1)*batch_size],\n",
    "        x_train[idx*batch_size:(idx+1)*batch_size],\n",
    "        weight_ar,\n",
    "        C,\n",
    "        False,\n",
    "        1.0)\n",
    "\n",
    "    sum_grad = batch_tr_grad.multiply(x_train[idx*batch_size:(idx+1)*batch_size]).sum(0)\n",
    "    if M is None:\n",
    "        M = sum_grad\n",
    "    else:\n",
    "        M = M + sum_grad\n",
    "\n",
    "M = M + 0.1/(num_tr_sample*C) * np.ones(x_train.shape[1])\n",
    "M = np.array(M).flatten()\n",
    "# computing the inverse Hessian-vector-product\n",
    "iv_hvp = inverse_hvp_lr_newtonCG(x_train,y_train,tr_pred,test_grad_loss_val,C,True,1e-5,True,M,0.1/(num_tr_sample*C))\n",
    "# get influence score\n",
    "total_batch = int(np.ceil(x_train.shape[0] / float(batch_size)))\n",
    "predicted_loss_diff = []\n",
    "for idx in range(total_batch):\n",
    "    train_grad_loss_val = batch_grad_logloss_lr(y_train[idx*batch_size:(idx+1)*batch_size],\n",
    "        tr_pred[idx*batch_size:(idx+1)*batch_size],\n",
    "        x_train[idx*batch_size:(idx+1)*batch_size],\n",
    "        weight_ar,\n",
    "        C,\n",
    "        False,\n",
    "        1.0)\n",
    "\n",
    "    predicted_loss_diff.extend(np.array(train_grad_loss_val.dot(iv_hvp)).flatten())\n",
    "    \n",
    "predicted_loss_diffs = np.asarray(predicted_loss_diff)\n",
    "duration = time.time() - if_start_time\n",
    "print(\"The Influence function's computation completed, cost {:.1f} sec\".format(duration))"
   ]
  },
  {
   "cell_type": "code",
   "execution_count": 6,
   "metadata": {},
   "outputs": [
    {
     "name": "stdout",
     "output_type": "stream",
     "text": [
      "============================================================\n",
      "IF Stats: mean 0.0011671405, max 0.0107398559, min -0.0405537893\n",
      "Pi Stats: [0.44256842 0.53599139 0.60420381 0.65264003 0.7068804 ]\n",
      "============================================================\n",
      "Result Summary on Va\n",
      "[SigUIDS]  logloss 0.094405, # 331\n",
      "[Random]   logloss 0.103259, # 332\n",
      "[Full]     logloss 0.105347, # 350\n",
      "Result Summary on Te\n",
      "[SigUIDS]  logloss 0.082369, # 331\n",
      "[Random]   logloss 0.089804, # 332\n",
      "[Full]     logloss 0.091384, # 350\n",
      "============================================================\n"
     ]
    }
   ],
   "source": [
    "print(\"==\"*30)\n",
    "print(\"IF Stats: mean {:.10f}, max {:.10f}, min {:.10f}\".format(\n",
    "    predicted_loss_diffs.mean(), predicted_loss_diffs.max(), predicted_loss_diffs.min())\n",
    ")\n",
    "# build sampling probability\n",
    "phi_ar = - predicted_loss_diffs\n",
    "IF_interval = phi_ar.max() - phi_ar.min()\n",
    "a_param = sigmoid_k / IF_interval\n",
    "prob_pi = 1 / (1 + np.exp(a_param * phi_ar))\n",
    "print(\"Pi Stats:\",np.percentile(prob_pi,[10,25,50,75,90]))\n",
    "# Do subsampling\n",
    "pos_idx = select_from_one_class(y_train,prob_pi,1,sample_ratio)\n",
    "neg_idx = select_from_one_class(y_train,prob_pi,0,sample_ratio)\n",
    "sb_idx = np.union1d(pos_idx,neg_idx)\n",
    "sb_x_train = x_train[sb_idx]\n",
    "sb_y_train = y_train[sb_idx]\n",
    "\n",
    "# Train the subset-model \\tilde{\\theta}\n",
    "clf.fit(sb_x_train,sb_y_train)\n",
    "y_va_pred = clf.predict_proba(x_va)[:,1]\n",
    "sb_logloss = log_loss(y_va, y_va_pred)\n",
    "sb_weight = clf.coef_.flatten()\n",
    "diff_w_norm = np.linalg.norm(weight_ar - sb_weight)\n",
    "sb_size = sb_x_train.shape[0]\n",
    "y_te_pred = clf.predict_proba(x_te)[:,1]\n",
    "sb_te_logloss = log_loss(y_te,y_te_pred)\n",
    "\n",
    "\n",
    "# baseline: random sampling\n",
    "u_idxs = np.arange(x_train.shape[0])\n",
    "uniform_idxs = np.random.choice(u_idxs,obj_sample_size,replace=False)\n",
    "us_x_train = x_train[uniform_idxs]\n",
    "us_y_train = y_train[uniform_idxs]\n",
    "clf.fit(us_x_train, us_y_train)\n",
    "y_va_pred = clf.predict_proba(x_va)[:,1]\n",
    "us_logloss = log_loss(y_va, y_va_pred)\n",
    "us_size = us_x_train.shape[0]\n",
    "y_te_pred = clf.predict_proba(x_te)[:,1]\n",
    "us_te_logloss = log_loss(y_te,y_te_pred)\n",
    "\n",
    "print(\"==\"*30)\n",
    "print(\"Result Summary on Va\")\n",
    "print(\"[SigUIDS]  logloss {:.6f}, # {}\".format(sb_logloss,sb_size))\n",
    "print(\"[Random]   logloss {:.6f}, # {}\".format(us_logloss,us_size))\n",
    "print(\"[Full]     logloss {:.6f}, # {}\".format(full_logloss,num_tr_sample))\n",
    "print(\"Result Summary on Te\")\n",
    "print(\"[SigUIDS]  logloss {:.6f}, # {}\".format(sb_te_logloss,sb_size))\n",
    "print(\"[Random]   logloss {:.6f}, # {}\".format(us_te_logloss,us_size))\n",
    "print(\"[Full]     logloss {:.6f}, # {}\".format(full_te_logloss,num_tr_sample))\n",
    "print(\"==\"*30)\n",
    "# Attention: if the dataset used here is small, one experiment may fail because of uncertainty of subsampling!\n",
    "# besides, a proper $k$ for sigmoid sampling function is also important.\n"
   ]
  },
  {
   "cell_type": "code",
   "execution_count": null,
   "metadata": {},
   "outputs": [],
   "source": []
  }
 ],
 "metadata": {
  "kernelspec": {
   "display_name": "Python 3",
   "language": "python",
   "name": "python3"
  },
  "language_info": {
   "codemirror_mode": {
    "name": "ipython",
    "version": 3
   },
   "file_extension": ".py",
   "mimetype": "text/x-python",
   "name": "python",
   "nbconvert_exporter": "python",
   "pygments_lexer": "ipython3",
   "version": "3.6.2"
  }
 },
 "nbformat": 4,
 "nbformat_minor": 2
}
